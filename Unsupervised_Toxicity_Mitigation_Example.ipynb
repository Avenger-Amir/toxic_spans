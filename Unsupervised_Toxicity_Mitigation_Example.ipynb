{
  "nbformat": 4,
  "nbformat_minor": 0,
  "metadata": {
    "colab": {
      "name": "Unsupervised Toxicity Mitigation Example.ipynb",
      "provenance": [],
      "collapsed_sections": [],
      "authorship_tag": "ABX9TyOJJ+swxmfMuxrN/Ii2CkEm",
      "include_colab_link": true
    },
    "kernelspec": {
      "name": "python3",
      "display_name": "Python 3"
    }
  },
  "cells": [
    {
      "cell_type": "markdown",
      "metadata": {
        "id": "view-in-github",
        "colab_type": "text"
      },
      "source": [
        "<a href=\"https://colab.research.google.com/github/ipavlopoulos/toxic_spans/blob/master/Unsupervised_Toxicity_Mitigation_Example.ipynb\" target=\"_parent\"><img src=\"https://colab.research.google.com/assets/colab-badge.svg\" alt=\"Open In Colab\"/></a>"
      ]
    },
    {
      "cell_type": "markdown",
      "metadata": {
        "id": "7OXPLMJnMbJv",
        "colab_type": "text"
      },
      "source": [
        "# Download the data"
      ]
    },
    {
      "cell_type": "code",
      "metadata": {
        "id": "5FMTqtJYRiX1",
        "colab_type": "code",
        "colab": {
          "base_uri": "https://localhost:8080/",
          "height": 85
        },
        "outputId": "85c33db2-9939-43ff-d03b-f01f81f10485"
      },
      "source": [
        "import pandas as pd\n",
        "cctk = pd.read_csv(\"cctk.train.csv.zip\") "
      ],
      "execution_count": 3,
      "outputs": [
        {
          "output_type": "stream",
          "text": [
            "Downloading...\n",
            "From: https://drive.google.com/uc?id=1gSdQCIqVZTb8oGrsBL0m8zcJCW9I3c5x\n",
            "To: /content/cctk.train.csv.zip\n",
            "286MB [00:02, 139MB/s]\n"
          ],
          "name": "stdout"
        }
      ]
    },
    {
      "cell_type": "markdown",
      "metadata": {
        "id": "tg-C8ktAcIJ7",
        "colab_type": "text"
      },
      "source": [
        "# Build a classifier (wrapper)\n",
        "* Any method could be used inside this wrapper\n",
        "* It should simply implement tokenise, train & predict"
      ]
    },
    {
      "cell_type": "code",
      "metadata": {
        "id": "rdNqvn3LSdTH",
        "colab_type": "code",
        "colab": {}
      },
      "source": [
        "from sklearn.feature_extraction.text import CountVectorizer\n",
        "from sklearn.linear_model import LogisticRegression\n",
        "from sklearn.metrics import accuracy_score, f1_score, precision_score, recall_score\n",
        "from sklearn.pipeline import make_pipeline\n",
        "\n",
        "class clf:\n",
        "  def __init__(self, tokenise = lambda x: x.split()):\n",
        "    self.tokenise = tokenise\n",
        "    self.vectorizer = CountVectorizer(analyzer='word',\n",
        "                                      tokenizer=tokenise,\n",
        "                                      binary=True)\n",
        "    self.model = LogisticRegression(n_jobs=1, C=1e5)\n",
        "  \n",
        "  def train(self, X_train, y_train, X_dev=None, y_dev=None):\n",
        "    train_vectors = self.vectorizer.fit_transform(X_train)\n",
        "    self.model.fit(train_vectors, y_train)\n",
        "    # uncomment below to use devevlopment data\n",
        "    #val_preds = self.model.predict(vectorizer.transform(X_dev))\n",
        "\n",
        "  def predict(self, x):\n",
        "    return self.model.predict(self.vectorizer.transform(x))"
      ],
      "execution_count": 0,
      "outputs": []
    },
    {
      "cell_type": "markdown",
      "metadata": {
        "id": "VspkS-HZcVWa",
        "colab_type": "text"
      },
      "source": [
        "- Use LR as a usecase"
      ]
    },
    {
      "cell_type": "code",
      "metadata": {
        "id": "z02eTecEWmSw",
        "colab_type": "code",
        "colab": {
          "base_uri": "https://localhost:8080/",
          "height": 207
        },
        "outputId": "33c9db24-8d7b-4f54-fe66-23bb9d862977"
      },
      "source": [
        "from sklearn.metrics import *\n",
        "from sklearn.model_selection import train_test_split\n",
        "\n",
        "test_size = 10000\n",
        "\n",
        "sample = cctk.sample(test_size*10, random_state=42)\n",
        "sample[\"label\"] = sample.target.apply(round)\n",
        "train, test = train_test_split(sample, test_size=test_size)\n",
        "\n",
        "X_train, X_val, y_train, y_val = train_test_split(train.comment_text, train.label, test_size=test_size, random_state=40)\n",
        "classifier = clf()\n",
        "classifier.train(X_train, y_train)\n",
        "predictions = classifier.predict(X_val)\n",
        "\n",
        "accuracy = accuracy_score(y_val, predictions)\n",
        "precision = precision_score(y_val, predictions, average='weighted')\n",
        "recall = recall_score(y_val, predictions, average='weighted')\n",
        "f1 = f1_score(y_val, predictions, average='weighted')\n",
        "print(\"accuracy = %.3f, precision = %.3f, recall = %.3f, f1 = %.3f\" % (accuracy, precision, recall, f1))\n",
        "print(f\"ROC: {roc_auc_score(y_val, predictions)}\")"
      ],
      "execution_count": 229,
      "outputs": [
        {
          "output_type": "stream",
          "text": [
            "/usr/local/lib/python3.6/dist-packages/sklearn/linear_model/_logistic.py:940: ConvergenceWarning: lbfgs failed to converge (status=1):\n",
            "STOP: TOTAL NO. of ITERATIONS REACHED LIMIT.\n",
            "\n",
            "Increase the number of iterations (max_iter) or scale the data as shown in:\n",
            "    https://scikit-learn.org/stable/modules/preprocessing.html\n",
            "Please also refer to the documentation for alternative solver options:\n",
            "    https://scikit-learn.org/stable/modules/linear_model.html#logistic-regression\n",
            "  extra_warning_msg=_LOGISTIC_SOLVER_CONVERGENCE_MSG)\n"
          ],
          "name": "stderr"
        },
        {
          "output_type": "stream",
          "text": [
            "accuracy = 0.945, precision = 0.941, recall = 0.945, f1 = 0.943\n",
            "ROC: 0.7141060501608211\n"
          ],
          "name": "stdout"
        }
      ]
    },
    {
      "cell_type": "markdown",
      "metadata": {
        "id": "kO98uo84budI",
        "colab_type": "text"
      },
      "source": [
        "# Use Input Erasure\n"
      ]
    },
    {
      "cell_type": "code",
      "metadata": {
        "id": "TP3KpJ0Bsse0",
        "colab_type": "code",
        "colab": {
          "base_uri": "https://localhost:8080/",
          "height": 119
        },
        "outputId": "05f16f65-f07c-4132-ae2f-98f4e08f42af"
      },
      "source": [
        "!git clone https://github.com/ipavlopoulos/toxic_spans.git"
      ],
      "execution_count": 163,
      "outputs": [
        {
          "output_type": "stream",
          "text": [
            "Cloning into 'toxic_spans'...\n",
            "remote: Enumerating objects: 13, done.\u001b[K\n",
            "remote: Counting objects: 100% (13/13), done.\u001b[K\n",
            "remote: Compressing objects: 100% (10/10), done.\u001b[K\n",
            "remote: Total 13 (delta 2), reused 8 (delta 1), pack-reused 0\u001b[K\n",
            "Unpacking objects: 100% (13/13), done.\n"
          ],
          "name": "stdout"
        }
      ]
    },
    {
      "cell_type": "code",
      "metadata": {
        "id": "u7Bw_qPMsyl4",
        "colab_type": "code",
        "colab": {}
      },
      "source": [
        "from toxic_spans.InputErasure import models\n",
        "\n",
        "# choose a correctly predicted toxic example\n",
        "show_cases = X_val.iloc[np.where((y_val==1)&(predictions==1))]\n"
      ],
      "execution_count": 0,
      "outputs": []
    },
    {
      "cell_type": "code",
      "metadata": {
        "id": "fTeJHFk0tN4v",
        "colab_type": "code",
        "colab": {
          "base_uri": "https://localhost:8080/",
          "height": 102
        },
        "outputId": "f41061c9-355c-43e2-85dc-d1ea8b4dc176"
      },
      "source": [
        "# select an example\n",
        "case = show_cases.sample(1).to_list()[0]\n",
        "# apply input erasure\n",
        "input_mask = models.Mask(classifier, case)\n",
        "mitigated_text = input_mask.get_mitigated_text()\n",
        "# show\n",
        "print(f\"THE TEXT:\\n{case}\\n\")\n",
        "print(f\"THE Mitigated TEXT:\\n{mitigated_text}\")"
      ],
      "execution_count": 233,
      "outputs": [
        {
          "output_type": "stream",
          "text": [
            "THE TEXT:\n",
            "A fool and his money are soon parted, sciguybm. Have you been donating to greenpeace?\n",
            "\n",
            "THE Mitigated TEXT:\n",
            "A [mask] and his money are soon parted, sciguybm. Have you been donating to greenpeace?\n"
          ],
          "name": "stdout"
        }
      ]
    },
    {
      "cell_type": "code",
      "metadata": {
        "id": "jml5Bf-LwzM2",
        "colab_type": "code",
        "colab": {}
      },
      "source": [
        ""
      ],
      "execution_count": 0,
      "outputs": []
    }
  ]
}