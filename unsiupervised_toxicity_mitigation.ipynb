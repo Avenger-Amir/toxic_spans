{
 "cells": [
  {
   "cell_type": "code",
   "execution_count": null,
   "outputs": [],
   "source": [
    "from sklearn.feature_extraction.text import CountVectorizer\n",
    "from sklearn.linear_model import LogisticRegression\n",
    "from sklearn.metrics import accuracy_score, f1_score, precision_score, recall_score\n",
    "from sklearn.pipeline import make_pipeline\n",
    "\n",
    "class clf:\n",
    "  def __init__(self):\n",
    "    self.vectorizer = CountVectorizer(analyzer='word',token_pattern=r'\\w{1,}', ngram_range=(1, 1), stop_words = 'english', binary=True)\n",
    "    self.model = LogisticRegression(n_jobs=1, C=1e5)\n",
    "  \n",
    "  def train(self, X_train, y_train, X_dev=None, y_dev=None):\n",
    "    train_vectors = self.vectorizer.fit_transform(X_train)\n",
    "    self.model.fit(train_vectors, y_train)\n",
    "    # uncomment below to use devevlopment data\n",
    "    #val_preds = self.model.predict(vectorizer.transform(X_dev))\n",
    "\n",
    "  def tokenise(self, text):\n",
    "    idx = self.vectorizer.transform([text]).toarray()[0]\n",
    "    return np.array(self.vectorizer.get_feature_names())[idx==1]    \n",
    "\n",
    "  def predict(self, x):\n",
    "    return self.model.predict(self.vectorizer.transform(x))\n",
    "  "
   ],
   "metadata": {
    "collapsed": false,
    "pycharm": {
     "name": "#%%\n"
    }
   }
  },
  {
   "cell_type": "code",
   "execution_count": null,
   "outputs": [],
   "source": [
    "from sklearn.metrics import *\n",
    "from sklearn.model_selection import train_test_split\n",
    "!gdown --id 1gSdQCIqVZTb8oGrsBL0m8zcJCW9I3c5x\n",
    "import pandas as pd\n",
    "cctk = pd.read_csv(\"cctk.train.csv.zip\") \n",
    "\n",
    "test_size = 10000\n",
    "\n",
    "sample = cctk.sample(test_size*10, random_state=42)\n",
    "sample[\"label\"] = sample.target.apply(round)\n",
    "train, test = train_test_split(sample, test_size=test_size)\n",
    "\n",
    "X_train, X_val, y_train, y_val = train_test_split(train.comment_text, train.label, test_size=test_size, random_state=40)\n",
    "classifier = clf()\n",
    "classifier.train(X_train, y_train)\n",
    "predictions = classifier.predict(X_val)\n",
    "\n",
    "accuracy = accuracy_score(y_val, predictions)\n",
    "precision = precision_score(y_val, predictions, average='weighted')\n",
    "recall = recall_score(y_val, predictions, average='weighted')\n",
    "f1 = f1_score(y_val, predictions, average='weighted')\n",
    "print(\"accuracy = %.3f, precision = %.3f, recall = %.3f, f1 = %.3f\" % (accuracy, precision, recall, f1))\n",
    "print(f\"ROC: {roc_auc_score(y_val, predictions)}\")"
   ],
   "metadata": {
    "collapsed": false,
    "pycharm": {
     "name": "#%%\n"
    }
   }
  },
  {
   "cell_type": "code",
   "execution_count": null,
   "outputs": [],
   "source": [
    "import numpy as np\n",
    "import InputErasure as IE\n",
    "\n",
    "# initialise the input erasure method\n",
    "input_mask = IE.Mask(classifier)\n",
    "\n",
    "# choose a correctly predicted a toxic example\n",
    "show_cases = X_val.iloc[np.where((y_val==1)&(predictions==1))]\n",
    "case = show_cases.sample(1).to_list()[0]\n",
    "\n",
    "# apply input erasure\n",
    "prediction, tweaks_pd, mitigated_text = iner.erase_n_score(case, True)\n",
    "\n",
    "# show\n",
    "print(f\"THE TEXT:\\n{case}\\n\")\n",
    "print(f\"THE Mitigated TEXT:\\n{mitigated_text}\")\n",
    "print ('Explanation for class %s' % iner.class_names[1])\n",
    "tweaks_pd.head()"
   ],
   "metadata": {
    "collapsed": false,
    "pycharm": {
     "name": "#%%\n"
    }
   }
  },
  {
   "cell_type": "code",
   "execution_count": null,
   "outputs": [],
   "source": [],
   "metadata": {
    "collapsed": false,
    "pycharm": {
     "name": "#%%\n"
    }
   }
  }
 ],
 "metadata": {
  "kernelspec": {
   "display_name": "Python 3",
   "language": "python",
   "name": "python3"
  },
  "language_info": {
   "codemirror_mode": {
    "name": "ipython",
    "version": 2
   },
   "file_extension": ".py",
   "mimetype": "text/x-python",
   "name": "python",
   "nbconvert_exporter": "python",
   "pygments_lexer": "ipython2",
   "version": "2.7.6"
  },
  "pycharm": {
   "stem_cell": {
    "cell_type": "raw",
    "source": [],
    "metadata": {
     "collapsed": false
    }
   }
  }
 },
 "nbformat": 4,
 "nbformat_minor": 0
}